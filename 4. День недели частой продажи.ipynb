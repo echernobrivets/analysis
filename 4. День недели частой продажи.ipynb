{
 "cells": [
  {
   "cell_type": "code",
   "execution_count": 1,
   "metadata": {},
   "outputs": [],
   "source": [
    "import pandas as pd\n",
    "import numpy as np\n",
    "import seaborn as sns\n",
    "import matplotlib.pyplot as plt\n",
    "import plotly.express as px\n",
    "import pandahouse as ph\n",
    "import datetime\n",
    "from datetime import timedelta\n",
    "from operator import attrgetter\n",
    "%matplotlib inline"
   ]
  },
  {
   "cell_type": "markdown",
   "metadata": {},
   "source": [
    "## По каждому товару определить, в какой день недели товар чаще всего покупается."
   ]
  },
  {
   "cell_type": "code",
   "execution_count": null,
   "metadata": {},
   "outputs": [],
   "source": [
    "# Для дальнейших вычислений пересоздадим соединение датафреймов customers и items\n",
    "customers_items = customers.merge(items)"
   ]
  },
  {
   "cell_type": "code",
   "execution_count": null,
   "metadata": {},
   "outputs": [
    {
     "data": {
      "text/plain": [
       "(112650, 18)"
      ]
     },
     "execution_count": 30,
     "metadata": {},
     "output_type": "execute_result"
    }
   ],
   "source": [
    "#Добавим к нашему соединенному датафрейму (customers_items) третий датафрейм. Соеденим по дефолту во избежание лишних пропусков.\n",
    "all_df = customers_items.merge(orders)\n",
    "all_df.shape"
   ]
  },
  {
   "cell_type": "code",
   "execution_count": null,
   "metadata": {},
   "outputs": [
    {
     "data": {
      "text/plain": [
       "customer_id                         0\n",
       "customer_unique_id                  0\n",
       "customer_zip_code_prefix            0\n",
       "customer_city                       0\n",
       "customer_state                      0\n",
       "order_id                            0\n",
       "order_status                        0\n",
       "order_purchase_timestamp            0\n",
       "order_approved_at                  15\n",
       "order_delivered_carrier_date     1194\n",
       "order_delivered_customer_date    2454\n",
       "order_estimated_delivery_date       0\n",
       "order_item_id                       0\n",
       "product_id                          0\n",
       "seller_id                           0\n",
       "shipping_limit_date                 0\n",
       "price                               0\n",
       "freight_value                       0\n",
       "dtype: int64"
      ]
     },
     "execution_count": 31,
     "metadata": {},
     "output_type": "execute_result"
    }
   ],
   "source": [
    "# Проверим количество пропущенных значений\n",
    "\n",
    "all_df.isna().sum()\n",
    "\n",
    "# Исходя из нашего изначально принятого правила, что покупкой считается и оплата и подтвержденная доставка, данные 15 товаров\n",
    "# мы учитывать не будем"
   ]
  },
  {
   "cell_type": "code",
   "execution_count": null,
   "metadata": {},
   "outputs": [
    {
     "data": {
      "text/plain": [
       "32213"
      ]
     },
     "execution_count": 32,
     "metadata": {},
     "output_type": "execute_result"
    }
   ],
   "source": [
    "# Считаем количество уникальных проданных товаров\n",
    "all_df[all_df.order_approved_at.notna()].query('order_status == \"delivered\"').product_id.nunique()"
   ]
  },
  {
   "cell_type": "code",
   "execution_count": null,
   "metadata": {},
   "outputs": [],
   "source": [
    "# Найдем общее количество проданных товарам за каждый день\n",
    "\n",
    "week_day_products = all_df[all_df.order_approved_at.notna()] \\\n",
    "                                 .query('order_status == \"delivered\"') \\\n",
    "                                 .groupby(all_df.order_approved_at.dt.day_name()) \\\n",
    "                                 .agg({'product_id': 'value_counts'}) \\\n",
    "                                 .rename(columns={'product_id': 'product_counts'}) \\\n",
    "                                 .reset_index() \\\n",
    "                                 .rename(columns={'order_approved_at': 'week_day'})"
   ]
  },
  {
   "cell_type": "code",
   "execution_count": null,
   "metadata": {},
   "outputs": [
    {
     "data": {
      "text/html": [
       "<div>\n",
       "<style scoped>\n",
       "    .dataframe tbody tr th:only-of-type {\n",
       "        vertical-align: middle;\n",
       "    }\n",
       "\n",
       "    .dataframe tbody tr th {\n",
       "        vertical-align: top;\n",
       "    }\n",
       "\n",
       "    .dataframe thead th {\n",
       "        text-align: right;\n",
       "    }\n",
       "</style>\n",
       "<table border=\"1\" class=\"dataframe\">\n",
       "  <thead>\n",
       "    <tr style=\"text-align: right;\">\n",
       "      <th></th>\n",
       "      <th>week_day</th>\n",
       "      <th>product_id</th>\n",
       "      <th>product_counts</th>\n",
       "    </tr>\n",
       "  </thead>\n",
       "  <tbody>\n",
       "    <tr>\n",
       "      <th>0</th>\n",
       "      <td>Friday</td>\n",
       "      <td>aca2eb7d00ea1a7b8ebd4e68314663af</td>\n",
       "      <td>92</td>\n",
       "    </tr>\n",
       "    <tr>\n",
       "      <th>1</th>\n",
       "      <td>Friday</td>\n",
       "      <td>422879e10f46682990de24d770e7f83d</td>\n",
       "      <td>87</td>\n",
       "    </tr>\n",
       "    <tr>\n",
       "      <th>2</th>\n",
       "      <td>Friday</td>\n",
       "      <td>53759a2ecddad2bb87a079a1f1519f73</td>\n",
       "      <td>68</td>\n",
       "    </tr>\n",
       "    <tr>\n",
       "      <th>3</th>\n",
       "      <td>Friday</td>\n",
       "      <td>99a4788cb24856965c36a24e339b6058</td>\n",
       "      <td>66</td>\n",
       "    </tr>\n",
       "    <tr>\n",
       "      <th>4</th>\n",
       "      <td>Friday</td>\n",
       "      <td>389d119b48cf3043d311335e499d9c6b</td>\n",
       "      <td>59</td>\n",
       "    </tr>\n",
       "    <tr>\n",
       "      <th>...</th>\n",
       "      <td>...</td>\n",
       "      <td>...</td>\n",
       "      <td>...</td>\n",
       "    </tr>\n",
       "    <tr>\n",
       "      <th>59831</th>\n",
       "      <td>Wednesday</td>\n",
       "      <td>ffe013e1b4603e3b0b02fbb159d5b400</td>\n",
       "      <td>1</td>\n",
       "    </tr>\n",
       "    <tr>\n",
       "      <th>59832</th>\n",
       "      <td>Wednesday</td>\n",
       "      <td>ffe0fc4e02c3559643ac063fa5cf9d07</td>\n",
       "      <td>1</td>\n",
       "    </tr>\n",
       "    <tr>\n",
       "      <th>59833</th>\n",
       "      <td>Wednesday</td>\n",
       "      <td>ffe75578163d45caa52bca3529cb511e</td>\n",
       "      <td>1</td>\n",
       "    </tr>\n",
       "    <tr>\n",
       "      <th>59834</th>\n",
       "      <td>Wednesday</td>\n",
       "      <td>ffedbd68fa6f44e788ff6c2db8094715</td>\n",
       "      <td>1</td>\n",
       "    </tr>\n",
       "    <tr>\n",
       "      <th>59835</th>\n",
       "      <td>Wednesday</td>\n",
       "      <td>fffe9eeff12fcbd74a2f2b007dde0c58</td>\n",
       "      <td>1</td>\n",
       "    </tr>\n",
       "  </tbody>\n",
       "</table>\n",
       "<p>59836 rows × 3 columns</p>\n",
       "</div>"
      ],
      "text/plain": [
       "        week_day                        product_id  product_counts\n",
       "0         Friday  aca2eb7d00ea1a7b8ebd4e68314663af              92\n",
       "1         Friday  422879e10f46682990de24d770e7f83d              87\n",
       "2         Friday  53759a2ecddad2bb87a079a1f1519f73              68\n",
       "3         Friday  99a4788cb24856965c36a24e339b6058              66\n",
       "4         Friday  389d119b48cf3043d311335e499d9c6b              59\n",
       "...          ...                               ...             ...\n",
       "59831  Wednesday  ffe013e1b4603e3b0b02fbb159d5b400               1\n",
       "59832  Wednesday  ffe0fc4e02c3559643ac063fa5cf9d07               1\n",
       "59833  Wednesday  ffe75578163d45caa52bca3529cb511e               1\n",
       "59834  Wednesday  ffedbd68fa6f44e788ff6c2db8094715               1\n",
       "59835  Wednesday  fffe9eeff12fcbd74a2f2b007dde0c58               1\n",
       "\n",
       "[59836 rows x 3 columns]"
      ]
     },
     "execution_count": 34,
     "metadata": {},
     "output_type": "execute_result"
    }
   ],
   "source": [
    "week_day_products"
   ]
  },
  {
   "cell_type": "code",
   "execution_count": null,
   "metadata": {},
   "outputs": [],
   "source": [
    "# Уникальные коды товаров и их максимальное число покупок\n",
    "max_products_counts = week_day_products.groupby('product_id', as_index=False).agg({'product_counts':'max'})"
   ]
  },
  {
   "cell_type": "code",
   "execution_count": null,
   "metadata": {},
   "outputs": [
    {
     "data": {
      "text/html": [
       "<div>\n",
       "<style scoped>\n",
       "    .dataframe tbody tr th:only-of-type {\n",
       "        vertical-align: middle;\n",
       "    }\n",
       "\n",
       "    .dataframe tbody tr th {\n",
       "        vertical-align: top;\n",
       "    }\n",
       "\n",
       "    .dataframe thead th {\n",
       "        text-align: right;\n",
       "    }\n",
       "</style>\n",
       "<table border=\"1\" class=\"dataframe\">\n",
       "  <thead>\n",
       "    <tr style=\"text-align: right;\">\n",
       "      <th></th>\n",
       "      <th>product_id</th>\n",
       "      <th>product_counts</th>\n",
       "    </tr>\n",
       "  </thead>\n",
       "  <tbody>\n",
       "    <tr>\n",
       "      <th>0</th>\n",
       "      <td>00066f42aeeb9f3007548bb9d3f33c38</td>\n",
       "      <td>1</td>\n",
       "    </tr>\n",
       "    <tr>\n",
       "      <th>1</th>\n",
       "      <td>00088930e925c41fd95ebfe695fd2655</td>\n",
       "      <td>1</td>\n",
       "    </tr>\n",
       "    <tr>\n",
       "      <th>2</th>\n",
       "      <td>0009406fd7479715e4bef61dd91f2462</td>\n",
       "      <td>1</td>\n",
       "    </tr>\n",
       "    <tr>\n",
       "      <th>3</th>\n",
       "      <td>000b8f95fcb9e0096488278317764d19</td>\n",
       "      <td>1</td>\n",
       "    </tr>\n",
       "    <tr>\n",
       "      <th>4</th>\n",
       "      <td>000d9be29b5207b54e86aa1b1ac54872</td>\n",
       "      <td>1</td>\n",
       "    </tr>\n",
       "    <tr>\n",
       "      <th>...</th>\n",
       "      <td>...</td>\n",
       "      <td>...</td>\n",
       "    </tr>\n",
       "    <tr>\n",
       "      <th>32208</th>\n",
       "      <td>fff6177642830a9a94a0f2cba5e476d1</td>\n",
       "      <td>1</td>\n",
       "    </tr>\n",
       "    <tr>\n",
       "      <th>32209</th>\n",
       "      <td>fff81cc3158d2725c0655ab9ba0f712c</td>\n",
       "      <td>1</td>\n",
       "    </tr>\n",
       "    <tr>\n",
       "      <th>32210</th>\n",
       "      <td>fff9553ac224cec9d15d49f5a263411f</td>\n",
       "      <td>1</td>\n",
       "    </tr>\n",
       "    <tr>\n",
       "      <th>32211</th>\n",
       "      <td>fffdb2d0ec8d6a61f0a0a0db3f25b441</td>\n",
       "      <td>3</td>\n",
       "    </tr>\n",
       "    <tr>\n",
       "      <th>32212</th>\n",
       "      <td>fffe9eeff12fcbd74a2f2b007dde0c58</td>\n",
       "      <td>1</td>\n",
       "    </tr>\n",
       "  </tbody>\n",
       "</table>\n",
       "<p>32213 rows × 2 columns</p>\n",
       "</div>"
      ],
      "text/plain": [
       "                             product_id  product_counts\n",
       "0      00066f42aeeb9f3007548bb9d3f33c38               1\n",
       "1      00088930e925c41fd95ebfe695fd2655               1\n",
       "2      0009406fd7479715e4bef61dd91f2462               1\n",
       "3      000b8f95fcb9e0096488278317764d19               1\n",
       "4      000d9be29b5207b54e86aa1b1ac54872               1\n",
       "...                                 ...             ...\n",
       "32208  fff6177642830a9a94a0f2cba5e476d1               1\n",
       "32209  fff81cc3158d2725c0655ab9ba0f712c               1\n",
       "32210  fff9553ac224cec9d15d49f5a263411f               1\n",
       "32211  fffdb2d0ec8d6a61f0a0a0db3f25b441               3\n",
       "32212  fffe9eeff12fcbd74a2f2b007dde0c58               1\n",
       "\n",
       "[32213 rows x 2 columns]"
      ]
     },
     "execution_count": 36,
     "metadata": {},
     "output_type": "execute_result"
    }
   ],
   "source": [
    "max_products_counts"
   ]
  },
  {
   "cell_type": "code",
   "execution_count": null,
   "metadata": {},
   "outputs": [],
   "source": [
    "# Итоговый результат\n",
    "max_week_day_products_counts = week_day_products.merge(max_products_counts)"
   ]
  },
  {
   "cell_type": "code",
   "execution_count": null,
   "metadata": {},
   "outputs": [],
   "source": [
    "# Для более читабельного вида (и для красоты) расположим дни согласно недели \n",
    "weeks = ['Monday', 'Tuesday', 'Wednesday', 'Thursday', 'Friday', 'Saturday', 'Sunday']\n",
    "max_week_day_products_counts ['week_day'] = pd.Categorical(max_week_day_products_counts['week_day'], categories=weeks, ordered=True)\n",
    "max_week_day_products_counts = max_week_day_products_counts.sort_values('week_day')"
   ]
  },
  {
   "cell_type": "code",
   "execution_count": null,
   "metadata": {},
   "outputs": [
    {
     "data": {
      "text/html": [
       "<div>\n",
       "<style scoped>\n",
       "    .dataframe tbody tr th:only-of-type {\n",
       "        vertical-align: middle;\n",
       "    }\n",
       "\n",
       "    .dataframe tbody tr th {\n",
       "        vertical-align: top;\n",
       "    }\n",
       "\n",
       "    .dataframe thead th {\n",
       "        text-align: right;\n",
       "    }\n",
       "</style>\n",
       "<table border=\"1\" class=\"dataframe\">\n",
       "  <thead>\n",
       "    <tr style=\"text-align: right;\">\n",
       "      <th></th>\n",
       "      <th>week_day</th>\n",
       "      <th>product_id</th>\n",
       "      <th>product_counts</th>\n",
       "    </tr>\n",
       "  </thead>\n",
       "  <tbody>\n",
       "    <tr>\n",
       "      <th>14912</th>\n",
       "      <td>Monday</td>\n",
       "      <td>a272b490eba6b022384f14ecb9afc7a9</td>\n",
       "      <td>1</td>\n",
       "    </tr>\n",
       "    <tr>\n",
       "      <th>10749</th>\n",
       "      <td>Monday</td>\n",
       "      <td>601d52789faa7ded8408d63ccfcb4800</td>\n",
       "      <td>2</td>\n",
       "    </tr>\n",
       "    <tr>\n",
       "      <th>10750</th>\n",
       "      <td>Monday</td>\n",
       "      <td>6171e0ffb665e527d521c2435e065644</td>\n",
       "      <td>2</td>\n",
       "    </tr>\n",
       "    <tr>\n",
       "      <th>10751</th>\n",
       "      <td>Monday</td>\n",
       "      <td>627c9ddcab5043db4f8816ce2da1d31c</td>\n",
       "      <td>2</td>\n",
       "    </tr>\n",
       "    <tr>\n",
       "      <th>10752</th>\n",
       "      <td>Monday</td>\n",
       "      <td>6291f9025c6b863241bb80ebafa4434e</td>\n",
       "      <td>2</td>\n",
       "    </tr>\n",
       "    <tr>\n",
       "      <th>...</th>\n",
       "      <td>...</td>\n",
       "      <td>...</td>\n",
       "      <td>...</td>\n",
       "    </tr>\n",
       "    <tr>\n",
       "      <th>23055</th>\n",
       "      <td>Sunday</td>\n",
       "      <td>8a5835aeef83efa6aa947f84f92deb0e</td>\n",
       "      <td>2</td>\n",
       "    </tr>\n",
       "    <tr>\n",
       "      <th>23056</th>\n",
       "      <td>Sunday</td>\n",
       "      <td>8b1b115b8dc96bdfa740d4267019a201</td>\n",
       "      <td>2</td>\n",
       "    </tr>\n",
       "    <tr>\n",
       "      <th>23058</th>\n",
       "      <td>Sunday</td>\n",
       "      <td>8b6ede776c9602a1db79d27547ff8253</td>\n",
       "      <td>2</td>\n",
       "    </tr>\n",
       "    <tr>\n",
       "      <th>23043</th>\n",
       "      <td>Sunday</td>\n",
       "      <td>8374b39a15882a19ce4558f13064b55c</td>\n",
       "      <td>2</td>\n",
       "    </tr>\n",
       "    <tr>\n",
       "      <th>13659</th>\n",
       "      <td>Sunday</td>\n",
       "      <td>67810bda0db346d0eee1ac3c6314af35</td>\n",
       "      <td>1</td>\n",
       "    </tr>\n",
       "  </tbody>\n",
       "</table>\n",
       "<p>41617 rows × 3 columns</p>\n",
       "</div>"
      ],
      "text/plain": [
       "      week_day                        product_id  product_counts\n",
       "14912   Monday  a272b490eba6b022384f14ecb9afc7a9               1\n",
       "10749   Monday  601d52789faa7ded8408d63ccfcb4800               2\n",
       "10750   Monday  6171e0ffb665e527d521c2435e065644               2\n",
       "10751   Monday  627c9ddcab5043db4f8816ce2da1d31c               2\n",
       "10752   Monday  6291f9025c6b863241bb80ebafa4434e               2\n",
       "...        ...                               ...             ...\n",
       "23055   Sunday  8a5835aeef83efa6aa947f84f92deb0e               2\n",
       "23056   Sunday  8b1b115b8dc96bdfa740d4267019a201               2\n",
       "23058   Sunday  8b6ede776c9602a1db79d27547ff8253               2\n",
       "23043   Sunday  8374b39a15882a19ce4558f13064b55c               2\n",
       "13659   Sunday  67810bda0db346d0eee1ac3c6314af35               1\n",
       "\n",
       "[41617 rows x 3 columns]"
      ]
     },
     "execution_count": 39,
     "metadata": {},
     "output_type": "execute_result"
    }
   ],
   "source": [
    "max_week_day_products_counts"
   ]
  }
 ],
 "metadata": {
  "kernelspec": {
   "display_name": "Python 3 (ipykernel)",
   "language": "python",
   "name": "python3"
  },
  "language_info": {
   "codemirror_mode": {
    "name": "ipython",
    "version": 3
   },
   "file_extension": ".py",
   "mimetype": "text/x-python",
   "name": "python",
   "nbconvert_exporter": "python",
   "pygments_lexer": "ipython3",
   "version": "3.8.10"
  }
 },
 "nbformat": 4,
 "nbformat_minor": 4
}
